{
 "cells": [
  {
   "cell_type": "code",
   "execution_count": 2,
   "metadata": {},
   "outputs": [],
   "source": [
    "from pathlib import Path\n",
    "import pandas as pd\n",
    "import os \n",
    "import json\n",
    "pd.options.mode.chained_assignment = None"
   ]
  },
  {
   "cell_type": "code",
   "execution_count": 3,
   "metadata": {},
   "outputs": [
    {
     "data": {
      "text/html": [
       "<div>\n",
       "<style scoped>\n",
       "    .dataframe tbody tr th:only-of-type {\n",
       "        vertical-align: middle;\n",
       "    }\n",
       "\n",
       "    .dataframe tbody tr th {\n",
       "        vertical-align: top;\n",
       "    }\n",
       "\n",
       "    .dataframe thead th {\n",
       "        text-align: right;\n",
       "    }\n",
       "</style>\n",
       "<table border=\"1\" class=\"dataframe\">\n",
       "  <thead>\n",
       "    <tr style=\"text-align: right;\">\n",
       "      <th></th>\n",
       "      <th>video</th>\n",
       "      <th>video_path</th>\n",
       "      <th>label</th>\n",
       "      <th>split</th>\n",
       "      <th>dataset</th>\n",
       "    </tr>\n",
       "    <tr>\n",
       "      <th>image_path</th>\n",
       "      <th></th>\n",
       "      <th></th>\n",
       "      <th></th>\n",
       "      <th></th>\n",
       "      <th></th>\n",
       "    </tr>\n",
       "  </thead>\n",
       "  <tbody>\n",
       "    <tr>\n",
       "      <th>exported_images/6a56497e819920c075e9_ccc262d36a042ac729c7_1_0011_0.jpg</th>\n",
       "      <td>6a56497e819920c075e9_ccc262d36a042ac729c7_1_00...</td>\n",
       "      <td>kodf/synthesized_videos/dfl/20201024/6a56497e8...</td>\n",
       "      <td>FAKE</td>\n",
       "      <td>train</td>\n",
       "      <td>kodf</td>\n",
       "    </tr>\n",
       "    <tr>\n",
       "      <th>exported_images/6a56497e819920c075e9_ccc262d36a042ac729c7_1_0011_225.jpg</th>\n",
       "      <td>6a56497e819920c075e9_ccc262d36a042ac729c7_1_00...</td>\n",
       "      <td>kodf/synthesized_videos/dfl/20201024/6a56497e8...</td>\n",
       "      <td>FAKE</td>\n",
       "      <td>train</td>\n",
       "      <td>kodf</td>\n",
       "    </tr>\n",
       "    <tr>\n",
       "      <th>exported_images/6a56497e819920c075e9_ccc262d36a042ac729c7_1_0012_0.jpg</th>\n",
       "      <td>6a56497e819920c075e9_ccc262d36a042ac729c7_1_00...</td>\n",
       "      <td>kodf/synthesized_videos/dfl/20201024/6a56497e8...</td>\n",
       "      <td>FAKE</td>\n",
       "      <td>train</td>\n",
       "      <td>kodf</td>\n",
       "    </tr>\n",
       "    <tr>\n",
       "      <th>exported_images/6a56497e819920c075e9_ccc262d36a042ac729c7_1_0012_225.jpg</th>\n",
       "      <td>6a56497e819920c075e9_ccc262d36a042ac729c7_1_00...</td>\n",
       "      <td>kodf/synthesized_videos/dfl/20201024/6a56497e8...</td>\n",
       "      <td>FAKE</td>\n",
       "      <td>train</td>\n",
       "      <td>kodf</td>\n",
       "    </tr>\n",
       "    <tr>\n",
       "      <th>exported_images/6a56497e819920c075e9_ccc262d36a042ac729c7_1_0013_0.jpg</th>\n",
       "      <td>6a56497e819920c075e9_ccc262d36a042ac729c7_1_00...</td>\n",
       "      <td>kodf/synthesized_videos/dfl/20201024/6a56497e8...</td>\n",
       "      <td>FAKE</td>\n",
       "      <td>train</td>\n",
       "      <td>kodf</td>\n",
       "    </tr>\n",
       "    <tr>\n",
       "      <th>...</th>\n",
       "      <td>...</td>\n",
       "      <td>...</td>\n",
       "      <td>...</td>\n",
       "      <td>...</td>\n",
       "      <td>...</td>\n",
       "    </tr>\n",
       "    <tr>\n",
       "      <th>exported_images/zztotvpkjc_150.jpg</th>\n",
       "      <td>zztotvpkjc.mp4</td>\n",
       "      <td>dfdc/test/zztotvpkjc.mp4</td>\n",
       "      <td>REAL</td>\n",
       "      <td>test</td>\n",
       "      <td>dfdc</td>\n",
       "    </tr>\n",
       "    <tr>\n",
       "      <th>exported_images/zztsycpujv_0.jpg</th>\n",
       "      <td>zztsycpujv.mp4</td>\n",
       "      <td>dfdc/test/zztsycpujv.mp4</td>\n",
       "      <td>FAKE</td>\n",
       "      <td>test</td>\n",
       "      <td>dfdc</td>\n",
       "    </tr>\n",
       "    <tr>\n",
       "      <th>exported_images/zztsycpujv_150.jpg</th>\n",
       "      <td>zztsycpujv.mp4</td>\n",
       "      <td>dfdc/test/zztsycpujv.mp4</td>\n",
       "      <td>FAKE</td>\n",
       "      <td>test</td>\n",
       "      <td>dfdc</td>\n",
       "    </tr>\n",
       "    <tr>\n",
       "      <th>exported_images/zzyawcrxmh_0.jpg</th>\n",
       "      <td>zzyawcrxmh.mp4</td>\n",
       "      <td>dfdc/test/zzyawcrxmh.mp4</td>\n",
       "      <td>REAL</td>\n",
       "      <td>test</td>\n",
       "      <td>dfdc</td>\n",
       "    </tr>\n",
       "    <tr>\n",
       "      <th>exported_images/zzyawcrxmh_150.jpg</th>\n",
       "      <td>zzyawcrxmh.mp4</td>\n",
       "      <td>dfdc/test/zzyawcrxmh.mp4</td>\n",
       "      <td>REAL</td>\n",
       "      <td>test</td>\n",
       "      <td>dfdc</td>\n",
       "    </tr>\n",
       "  </tbody>\n",
       "</table>\n",
       "<p>570904 rows × 5 columns</p>\n",
       "</div>"
      ],
      "text/plain": [
       "                                                                                                video  \\\n",
       "image_path                                                                                              \n",
       "exported_images/6a56497e819920c075e9_ccc262d36a...  6a56497e819920c075e9_ccc262d36a042ac729c7_1_00...   \n",
       "exported_images/6a56497e819920c075e9_ccc262d36a...  6a56497e819920c075e9_ccc262d36a042ac729c7_1_00...   \n",
       "exported_images/6a56497e819920c075e9_ccc262d36a...  6a56497e819920c075e9_ccc262d36a042ac729c7_1_00...   \n",
       "exported_images/6a56497e819920c075e9_ccc262d36a...  6a56497e819920c075e9_ccc262d36a042ac729c7_1_00...   \n",
       "exported_images/6a56497e819920c075e9_ccc262d36a...  6a56497e819920c075e9_ccc262d36a042ac729c7_1_00...   \n",
       "...                                                                                               ...   \n",
       "exported_images/zztotvpkjc_150.jpg                                                     zztotvpkjc.mp4   \n",
       "exported_images/zztsycpujv_0.jpg                                                       zztsycpujv.mp4   \n",
       "exported_images/zztsycpujv_150.jpg                                                     zztsycpujv.mp4   \n",
       "exported_images/zzyawcrxmh_0.jpg                                                       zzyawcrxmh.mp4   \n",
       "exported_images/zzyawcrxmh_150.jpg                                                     zzyawcrxmh.mp4   \n",
       "\n",
       "                                                                                           video_path  \\\n",
       "image_path                                                                                              \n",
       "exported_images/6a56497e819920c075e9_ccc262d36a...  kodf/synthesized_videos/dfl/20201024/6a56497e8...   \n",
       "exported_images/6a56497e819920c075e9_ccc262d36a...  kodf/synthesized_videos/dfl/20201024/6a56497e8...   \n",
       "exported_images/6a56497e819920c075e9_ccc262d36a...  kodf/synthesized_videos/dfl/20201024/6a56497e8...   \n",
       "exported_images/6a56497e819920c075e9_ccc262d36a...  kodf/synthesized_videos/dfl/20201024/6a56497e8...   \n",
       "exported_images/6a56497e819920c075e9_ccc262d36a...  kodf/synthesized_videos/dfl/20201024/6a56497e8...   \n",
       "...                                                                                               ...   \n",
       "exported_images/zztotvpkjc_150.jpg                                           dfdc/test/zztotvpkjc.mp4   \n",
       "exported_images/zztsycpujv_0.jpg                                             dfdc/test/zztsycpujv.mp4   \n",
       "exported_images/zztsycpujv_150.jpg                                           dfdc/test/zztsycpujv.mp4   \n",
       "exported_images/zzyawcrxmh_0.jpg                                             dfdc/test/zzyawcrxmh.mp4   \n",
       "exported_images/zzyawcrxmh_150.jpg                                           dfdc/test/zzyawcrxmh.mp4   \n",
       "\n",
       "                                                   label  split dataset  \n",
       "image_path                                                               \n",
       "exported_images/6a56497e819920c075e9_ccc262d36a...  FAKE  train    kodf  \n",
       "exported_images/6a56497e819920c075e9_ccc262d36a...  FAKE  train    kodf  \n",
       "exported_images/6a56497e819920c075e9_ccc262d36a...  FAKE  train    kodf  \n",
       "exported_images/6a56497e819920c075e9_ccc262d36a...  FAKE  train    kodf  \n",
       "exported_images/6a56497e819920c075e9_ccc262d36a...  FAKE  train    kodf  \n",
       "...                                                  ...    ...     ...  \n",
       "exported_images/zztotvpkjc_150.jpg                  REAL   test    dfdc  \n",
       "exported_images/zztsycpujv_0.jpg                    FAKE   test    dfdc  \n",
       "exported_images/zztsycpujv_150.jpg                  FAKE   test    dfdc  \n",
       "exported_images/zzyawcrxmh_0.jpg                    REAL   test    dfdc  \n",
       "exported_images/zzyawcrxmh_150.jpg                  REAL   test    dfdc  \n",
       "\n",
       "[570904 rows x 5 columns]"
      ]
     },
     "execution_count": 3,
     "metadata": {},
     "output_type": "execute_result"
    }
   ],
   "source": [
    "from deepfake_detection.defaults import DATA_PATH\n",
    "images_df = pd.read_csv(DATA_PATH / \"images_data.csv\")\n",
    "images_df.set_index(\"image_path\", inplace=True)\n",
    "images_df"
   ]
  },
  {
   "cell_type": "code",
   "execution_count": 4,
   "metadata": {},
   "outputs": [
    {
     "data": {
      "text/plain": [
       "label\n",
       "FAKE    41856\n",
       "REAL    30124\n",
       "Name: count, dtype: int64"
      ]
     },
     "execution_count": 4,
     "metadata": {},
     "output_type": "execute_result"
    }
   ],
   "source": [
    "images_df[images_df['split'] == \"test\"]['label'].value_counts()"
   ]
  },
  {
   "cell_type": "code",
   "execution_count": 5,
   "metadata": {},
   "outputs": [
    {
     "data": {
      "text/plain": [
       "'/home/faraz/Documents/code/deepfake_detection/data/6a56497e819920c075e9_ccc262d36a042ac729c7_1_0012.mp4'"
      ]
     },
     "execution_count": 5,
     "metadata": {},
     "output_type": "execute_result"
    }
   ],
   "source": [
    "os.path.join(DATA_PATH, images_df.iloc[2, 0])"
   ]
  },
  {
   "cell_type": "code",
   "execution_count": 6,
   "metadata": {},
   "outputs": [],
   "source": [
    "extracted_faces = os.path.join(DATA_PATH, \"extracted_faces_two.json\")\n",
    "with open(extracted_faces) as f:\n",
    "    faces_dict = json.load(f)\n",
    "faces_df = pd.read_json(DATA_PATH / \"extracted_faces_two.json\", orient=\"index\")"
   ]
  },
  {
   "cell_type": "code",
   "execution_count": 7,
   "metadata": {},
   "outputs": [
    {
     "data": {
      "text/plain": [
       "exported_images/6a56497e819920c075e9_ccc262d36a042ac729c7_1_0011_0.jpg      [849.5372314453125, 265.4817199707031, 1167.73...\n",
       "exported_images/6a56497e819920c075e9_ccc262d36a042ac729c7_1_0011_225.jpg    [846.4168090820312, 268.377197265625, 1157.069...\n",
       "exported_images/6a56497e819920c075e9_ccc262d36a042ac729c7_1_0012_0.jpg      [858.8211059570312, 276.0788879394531, 1165.09...\n",
       "exported_images/6a56497e819920c075e9_ccc262d36a042ac729c7_1_0012_225.jpg    [845.9647827148438, 254.9350128173828, 1170.71...\n",
       "exported_images/6a56497e819920c075e9_ccc262d36a042ac729c7_1_0013_0.jpg      [842.3378295898438, 257.9984436035156, 1166.18...\n",
       "                                                                                                  ...                        \n",
       "exported_images/zztotvpkjc_150.jpg                                          [700.6426391601562, 269.99310302734375, 994.29...\n",
       "exported_images/zztsycpujv_0.jpg                                            [885.1530151367188, 171.32176208496094, 983.92...\n",
       "exported_images/zztsycpujv_150.jpg                                          [885.3029174804688, 170.188720703125, 981.6271...\n",
       "exported_images/zzyawcrxmh_0.jpg                                            [641.734619140625, 290.6494445800781, 933.1514...\n",
       "exported_images/zzyawcrxmh_150.jpg                                          [673.2357788085938, 297.9969482421875, 952.698...\n",
       "Name: boxes, Length: 570904, dtype: object"
      ]
     },
     "execution_count": 7,
     "metadata": {},
     "output_type": "execute_result"
    }
   ],
   "source": [
    "faces_df['boxes']"
   ]
  },
  {
   "cell_type": "code",
   "execution_count": 8,
   "metadata": {},
   "outputs": [],
   "source": [
    "combined_df = pd.merge(faces_df, images_df, right_index=True, left_index=True)\n",
    "combined_df.to_json(DATA_PATH / \"combined_extracted_data.json\", orient=\"index\")\n",
    "combined_df.reset_index(inplace=True)\n",
    "combined_df.rename(columns={\"index\": \"image_path\"}, inplace=True)\n",
    "combined_df.to_csv(DATA_PATH / \"combined_extracted_data.csv\", index=False)"
   ]
  },
  {
   "cell_type": "code",
   "execution_count": 9,
   "metadata": {},
   "outputs": [
    {
     "data": {
      "text/html": [
       "<div>\n",
       "<style scoped>\n",
       "    .dataframe tbody tr th:only-of-type {\n",
       "        vertical-align: middle;\n",
       "    }\n",
       "\n",
       "    .dataframe tbody tr th {\n",
       "        vertical-align: top;\n",
       "    }\n",
       "\n",
       "    .dataframe thead th {\n",
       "        text-align: right;\n",
       "    }\n",
       "</style>\n",
       "<table border=\"1\" class=\"dataframe\">\n",
       "  <thead>\n",
       "    <tr style=\"text-align: right;\">\n",
       "      <th></th>\n",
       "      <th>image_path</th>\n",
       "      <th>boxes</th>\n",
       "      <th>probs</th>\n",
       "      <th>points</th>\n",
       "      <th>video</th>\n",
       "      <th>video_path</th>\n",
       "      <th>label</th>\n",
       "      <th>split</th>\n",
       "      <th>dataset</th>\n",
       "    </tr>\n",
       "  </thead>\n",
       "  <tbody>\n",
       "    <tr>\n",
       "      <th>0</th>\n",
       "      <td>exported_images/6a56497e819920c075e9_ccc262d36...</td>\n",
       "      <td>[849.5372314453125, 265.4817199707031, 1167.73...</td>\n",
       "      <td>0.999812</td>\n",
       "      <td>[[945.0796508789062, 427.934326171875], [1082....</td>\n",
       "      <td>6a56497e819920c075e9_ccc262d36a042ac729c7_1_00...</td>\n",
       "      <td>kodf/synthesized_videos/dfl/20201024/6a56497e8...</td>\n",
       "      <td>FAKE</td>\n",
       "      <td>train</td>\n",
       "      <td>kodf</td>\n",
       "    </tr>\n",
       "    <tr>\n",
       "      <th>1</th>\n",
       "      <td>exported_images/6a56497e819920c075e9_ccc262d36...</td>\n",
       "      <td>[846.4168090820312, 268.377197265625, 1157.069...</td>\n",
       "      <td>1.000000</td>\n",
       "      <td>[[941.3860473632812, 424.1674499511719], [1076...</td>\n",
       "      <td>6a56497e819920c075e9_ccc262d36a042ac729c7_1_00...</td>\n",
       "      <td>kodf/synthesized_videos/dfl/20201024/6a56497e8...</td>\n",
       "      <td>FAKE</td>\n",
       "      <td>train</td>\n",
       "      <td>kodf</td>\n",
       "    </tr>\n",
       "    <tr>\n",
       "      <th>2</th>\n",
       "      <td>exported_images/6a56497e819920c075e9_ccc262d36...</td>\n",
       "      <td>[858.8211059570312, 276.0788879394531, 1165.09...</td>\n",
       "      <td>0.999711</td>\n",
       "      <td>[[942.8497314453125, 422.51776123046875], [107...</td>\n",
       "      <td>6a56497e819920c075e9_ccc262d36a042ac729c7_1_00...</td>\n",
       "      <td>kodf/synthesized_videos/dfl/20201024/6a56497e8...</td>\n",
       "      <td>FAKE</td>\n",
       "      <td>train</td>\n",
       "      <td>kodf</td>\n",
       "    </tr>\n",
       "    <tr>\n",
       "      <th>3</th>\n",
       "      <td>exported_images/6a56497e819920c075e9_ccc262d36...</td>\n",
       "      <td>[845.9647827148438, 254.9350128173828, 1170.71...</td>\n",
       "      <td>0.999919</td>\n",
       "      <td>[[944.6314697265625, 426.19354248046875], [107...</td>\n",
       "      <td>6a56497e819920c075e9_ccc262d36a042ac729c7_1_00...</td>\n",
       "      <td>kodf/synthesized_videos/dfl/20201024/6a56497e8...</td>\n",
       "      <td>FAKE</td>\n",
       "      <td>train</td>\n",
       "      <td>kodf</td>\n",
       "    </tr>\n",
       "    <tr>\n",
       "      <th>4</th>\n",
       "      <td>exported_images/6a56497e819920c075e9_ccc262d36...</td>\n",
       "      <td>[842.3378295898438, 257.9984436035156, 1166.18...</td>\n",
       "      <td>0.999741</td>\n",
       "      <td>[[939.6442260742188, 425.58636474609375], [107...</td>\n",
       "      <td>6a56497e819920c075e9_ccc262d36a042ac729c7_1_00...</td>\n",
       "      <td>kodf/synthesized_videos/dfl/20201024/6a56497e8...</td>\n",
       "      <td>FAKE</td>\n",
       "      <td>train</td>\n",
       "      <td>kodf</td>\n",
       "    </tr>\n",
       "    <tr>\n",
       "      <th>...</th>\n",
       "      <td>...</td>\n",
       "      <td>...</td>\n",
       "      <td>...</td>\n",
       "      <td>...</td>\n",
       "      <td>...</td>\n",
       "      <td>...</td>\n",
       "      <td>...</td>\n",
       "      <td>...</td>\n",
       "      <td>...</td>\n",
       "    </tr>\n",
       "    <tr>\n",
       "      <th>570899</th>\n",
       "      <td>exported_images/zztotvpkjc_150.jpg</td>\n",
       "      <td>[700.6426391601562, 269.99310302734375, 994.29...</td>\n",
       "      <td>0.999917</td>\n",
       "      <td>[[787.9971923828125, 400.0956726074219], [924....</td>\n",
       "      <td>zztotvpkjc.mp4</td>\n",
       "      <td>dfdc/test/zztotvpkjc.mp4</td>\n",
       "      <td>REAL</td>\n",
       "      <td>test</td>\n",
       "      <td>dfdc</td>\n",
       "    </tr>\n",
       "    <tr>\n",
       "      <th>570900</th>\n",
       "      <td>exported_images/zztsycpujv_0.jpg</td>\n",
       "      <td>[885.1530151367188, 171.32176208496094, 983.92...</td>\n",
       "      <td>0.999978</td>\n",
       "      <td>[[909.2958374023438, 222.84645080566406], [952...</td>\n",
       "      <td>zztsycpujv.mp4</td>\n",
       "      <td>dfdc/test/zztsycpujv.mp4</td>\n",
       "      <td>FAKE</td>\n",
       "      <td>test</td>\n",
       "      <td>dfdc</td>\n",
       "    </tr>\n",
       "    <tr>\n",
       "      <th>570901</th>\n",
       "      <td>exported_images/zztsycpujv_150.jpg</td>\n",
       "      <td>[885.3029174804688, 170.188720703125, 981.6271...</td>\n",
       "      <td>0.999181</td>\n",
       "      <td>[[911.4741821289062, 217.42872619628906], [953...</td>\n",
       "      <td>zztsycpujv.mp4</td>\n",
       "      <td>dfdc/test/zztsycpujv.mp4</td>\n",
       "      <td>FAKE</td>\n",
       "      <td>test</td>\n",
       "      <td>dfdc</td>\n",
       "    </tr>\n",
       "    <tr>\n",
       "      <th>570902</th>\n",
       "      <td>exported_images/zzyawcrxmh_0.jpg</td>\n",
       "      <td>[641.734619140625, 290.6494445800781, 933.1514...</td>\n",
       "      <td>0.998927</td>\n",
       "      <td>[[748.1180419921875, 437.06597900390625], [879...</td>\n",
       "      <td>zzyawcrxmh.mp4</td>\n",
       "      <td>dfdc/test/zzyawcrxmh.mp4</td>\n",
       "      <td>REAL</td>\n",
       "      <td>test</td>\n",
       "      <td>dfdc</td>\n",
       "    </tr>\n",
       "    <tr>\n",
       "      <th>570903</th>\n",
       "      <td>exported_images/zzyawcrxmh_150.jpg</td>\n",
       "      <td>[673.2357788085938, 297.9969482421875, 952.698...</td>\n",
       "      <td>0.994797</td>\n",
       "      <td>[[757.0886840820312, 427.126708984375], [890.6...</td>\n",
       "      <td>zzyawcrxmh.mp4</td>\n",
       "      <td>dfdc/test/zzyawcrxmh.mp4</td>\n",
       "      <td>REAL</td>\n",
       "      <td>test</td>\n",
       "      <td>dfdc</td>\n",
       "    </tr>\n",
       "  </tbody>\n",
       "</table>\n",
       "<p>570904 rows × 9 columns</p>\n",
       "</div>"
      ],
      "text/plain": [
       "                                               image_path  \\\n",
       "0       exported_images/6a56497e819920c075e9_ccc262d36...   \n",
       "1       exported_images/6a56497e819920c075e9_ccc262d36...   \n",
       "2       exported_images/6a56497e819920c075e9_ccc262d36...   \n",
       "3       exported_images/6a56497e819920c075e9_ccc262d36...   \n",
       "4       exported_images/6a56497e819920c075e9_ccc262d36...   \n",
       "...                                                   ...   \n",
       "570899                 exported_images/zztotvpkjc_150.jpg   \n",
       "570900                   exported_images/zztsycpujv_0.jpg   \n",
       "570901                 exported_images/zztsycpujv_150.jpg   \n",
       "570902                   exported_images/zzyawcrxmh_0.jpg   \n",
       "570903                 exported_images/zzyawcrxmh_150.jpg   \n",
       "\n",
       "                                                    boxes     probs  \\\n",
       "0       [849.5372314453125, 265.4817199707031, 1167.73...  0.999812   \n",
       "1       [846.4168090820312, 268.377197265625, 1157.069...  1.000000   \n",
       "2       [858.8211059570312, 276.0788879394531, 1165.09...  0.999711   \n",
       "3       [845.9647827148438, 254.9350128173828, 1170.71...  0.999919   \n",
       "4       [842.3378295898438, 257.9984436035156, 1166.18...  0.999741   \n",
       "...                                                   ...       ...   \n",
       "570899  [700.6426391601562, 269.99310302734375, 994.29...  0.999917   \n",
       "570900  [885.1530151367188, 171.32176208496094, 983.92...  0.999978   \n",
       "570901  [885.3029174804688, 170.188720703125, 981.6271...  0.999181   \n",
       "570902  [641.734619140625, 290.6494445800781, 933.1514...  0.998927   \n",
       "570903  [673.2357788085938, 297.9969482421875, 952.698...  0.994797   \n",
       "\n",
       "                                                   points  \\\n",
       "0       [[945.0796508789062, 427.934326171875], [1082....   \n",
       "1       [[941.3860473632812, 424.1674499511719], [1076...   \n",
       "2       [[942.8497314453125, 422.51776123046875], [107...   \n",
       "3       [[944.6314697265625, 426.19354248046875], [107...   \n",
       "4       [[939.6442260742188, 425.58636474609375], [107...   \n",
       "...                                                   ...   \n",
       "570899  [[787.9971923828125, 400.0956726074219], [924....   \n",
       "570900  [[909.2958374023438, 222.84645080566406], [952...   \n",
       "570901  [[911.4741821289062, 217.42872619628906], [953...   \n",
       "570902  [[748.1180419921875, 437.06597900390625], [879...   \n",
       "570903  [[757.0886840820312, 427.126708984375], [890.6...   \n",
       "\n",
       "                                                    video  \\\n",
       "0       6a56497e819920c075e9_ccc262d36a042ac729c7_1_00...   \n",
       "1       6a56497e819920c075e9_ccc262d36a042ac729c7_1_00...   \n",
       "2       6a56497e819920c075e9_ccc262d36a042ac729c7_1_00...   \n",
       "3       6a56497e819920c075e9_ccc262d36a042ac729c7_1_00...   \n",
       "4       6a56497e819920c075e9_ccc262d36a042ac729c7_1_00...   \n",
       "...                                                   ...   \n",
       "570899                                     zztotvpkjc.mp4   \n",
       "570900                                     zztsycpujv.mp4   \n",
       "570901                                     zztsycpujv.mp4   \n",
       "570902                                     zzyawcrxmh.mp4   \n",
       "570903                                     zzyawcrxmh.mp4   \n",
       "\n",
       "                                               video_path label  split dataset  \n",
       "0       kodf/synthesized_videos/dfl/20201024/6a56497e8...  FAKE  train    kodf  \n",
       "1       kodf/synthesized_videos/dfl/20201024/6a56497e8...  FAKE  train    kodf  \n",
       "2       kodf/synthesized_videos/dfl/20201024/6a56497e8...  FAKE  train    kodf  \n",
       "3       kodf/synthesized_videos/dfl/20201024/6a56497e8...  FAKE  train    kodf  \n",
       "4       kodf/synthesized_videos/dfl/20201024/6a56497e8...  FAKE  train    kodf  \n",
       "...                                                   ...   ...    ...     ...  \n",
       "570899                           dfdc/test/zztotvpkjc.mp4  REAL   test    dfdc  \n",
       "570900                           dfdc/test/zztsycpujv.mp4  FAKE   test    dfdc  \n",
       "570901                           dfdc/test/zztsycpujv.mp4  FAKE   test    dfdc  \n",
       "570902                           dfdc/test/zzyawcrxmh.mp4  REAL   test    dfdc  \n",
       "570903                           dfdc/test/zzyawcrxmh.mp4  REAL   test    dfdc  \n",
       "\n",
       "[570904 rows x 9 columns]"
      ]
     },
     "execution_count": 9,
     "metadata": {},
     "output_type": "execute_result"
    }
   ],
   "source": [
    "combined_df"
   ]
  },
  {
   "cell_type": "code",
   "execution_count": 11,
   "metadata": {},
   "outputs": [],
   "source": [
    "# import cv2\n",
    "# import random\n",
    "\n",
    "# sample = combined_df.sample(100, replace=True)\n",
    "# for idx, img_contents in sample.iterrows():\n",
    "#     img = cv2.imread(os.path.join(DATA_PATH, img_contents['image_path']))\n",
    "#     bboxes = img_contents['boxes']\n",
    "#     xmin, ymin, xmax, ymax = [int(b) for b in bboxes]\n",
    "#     print(xmin, ymin, xmax, ymax)\n",
    "#     print(bboxes)\n",
    "#     w = xmax - xmin\n",
    "#     h = ymax - ymin\n",
    "#     p_h = h // 3\n",
    "#     p_w = w // 3\n",
    "#     crop = img[max(ymin - p_h, 0):ymax + p_h, max(xmin - p_w, 0):xmax + p_w]\n",
    "#     h, w = crop.shape[:2]\n",
    "\n",
    "#     img_dir = os.path.join(DATA_PATH, \"cropped_faces\")\n",
    "#     os.makedirs(img_dir, exist_ok=True)\n",
    "#     cv2.imwrite(os.path.join(img_dir, f\"{os.path.basename(img_contents['image_path'])}.png\"), crop)"
   ]
  },
  {
   "cell_type": "code",
   "execution_count": 12,
   "metadata": {},
   "outputs": [
    {
     "ename": "AttributeError",
     "evalue": "'str' object has no attribute 'values'",
     "output_type": "error",
     "traceback": [
      "\u001b[0;31m---------------------------------------------------------------------------\u001b[0m",
      "\u001b[0;31mAttributeError\u001b[0m                            Traceback (most recent call last)",
      "Cell \u001b[0;32mIn[12], line 4\u001b[0m\n\u001b[1;32m      2\u001b[0m img_counter \u001b[39m=\u001b[39m defaultdict(\u001b[39mint\u001b[39m)\n\u001b[1;32m      3\u001b[0m \u001b[39mfor\u001b[39;00m face \u001b[39min\u001b[39;00m faces_dict:\n\u001b[0;32m----> 4\u001b[0m     vals \u001b[39m=\u001b[39m \u001b[39mlist\u001b[39m(face\u001b[39m.\u001b[39;49mvalues())[\u001b[39m0\u001b[39m]\n\u001b[1;32m      5\u001b[0m     prob_count \u001b[39m=\u001b[39m (\u001b[39mlen\u001b[39m(vals[\u001b[39m'\u001b[39m\u001b[39mprobs\u001b[39m\u001b[39m'\u001b[39m]))\n\u001b[1;32m      6\u001b[0m     \u001b[39mif\u001b[39;00m prob_count \u001b[39m>\u001b[39m\u001b[39m=\u001b[39m \u001b[39m10\u001b[39m:\n",
      "\u001b[0;31mAttributeError\u001b[0m: 'str' object has no attribute 'values'"
     ]
    }
   ],
   "source": [
    "# from collections import defaultdict\n",
    "# img_counter = defaultdict(int)\n",
    "# for face in faces_dict:\n",
    "#     vals = list(face.values())[0]\n",
    "#     prob_count = (len(vals['probs']))\n",
    "#     if prob_count >= 10:\n",
    "#         print(list(face.keys())[0])\n",
    "#     img_counter[prob_count] += 1"
   ]
  },
  {
   "cell_type": "code",
   "execution_count": null,
   "metadata": {},
   "outputs": [
    {
     "data": {
      "text/plain": [
       "True"
      ]
     },
     "execution_count": 43,
     "metadata": {},
     "output_type": "execute_result"
    }
   ],
   "source": [
    "# img = cv2.imread(str(DATA_PATH / \"exported_images/iplfwctspt_149.jpg\"))\n",
    "# cv2.imwrite(str(DATA_PATH / \"cropped_faces\" / \"example.png\"), img)"
   ]
  },
  {
   "cell_type": "code",
   "execution_count": 13,
   "metadata": {},
   "outputs": [],
   "source": [
    "combined_json = pd.read_json(DATA_PATH / \"combined_extracted_data.json\", orient=\"index\")\n",
    "combined_json.drop(['boxes', 'probs', 'points'], axis=1, inplace=True)"
   ]
  },
  {
   "cell_type": "code",
   "execution_count": 14,
   "metadata": {},
   "outputs": [
    {
     "data": {
      "text/plain": [
       "split\n",
       "train    0.745383\n",
       "val      0.128536\n",
       "test     0.126081\n",
       "Name: proportion, dtype: float64"
      ]
     },
     "execution_count": 14,
     "metadata": {},
     "output_type": "execute_result"
    }
   ],
   "source": [
    "combined_json['split'].value_counts(normalize=True)"
   ]
  },
  {
   "cell_type": "code",
   "execution_count": 16,
   "metadata": {},
   "outputs": [],
   "source": [
    "combined_json.reset_index(inplace=True)"
   ]
  },
  {
   "cell_type": "code",
   "execution_count": 18,
   "metadata": {},
   "outputs": [],
   "source": [
    "combined_json.rename(columns={\"index\": \"cropped_face_path\"}, inplace=True)"
   ]
  },
  {
   "cell_type": "code",
   "execution_count": 20,
   "metadata": {},
   "outputs": [],
   "source": [
    "combined_json['cropped_face_path'] = combined_json['cropped_face_path'].apply(lambda x: os.path.join(\"cropped_faces\", Path(x).name))"
   ]
  },
  {
   "cell_type": "code",
   "execution_count": 22,
   "metadata": {},
   "outputs": [],
   "source": [
    "combined_json['cropped_face_path'] = combined_json['cropped_face_path'].apply(lambda x: Path(x).with_suffix(\".png\"))"
   ]
  },
  {
   "cell_type": "code",
   "execution_count": 27,
   "metadata": {},
   "outputs": [],
   "source": [
    "missing_files = []\n",
    "for path in combined_json['cropped_face_path']:\n",
    "    file_path = os.path.join(DATA_PATH / path)\n",
    "    if not os.path.exists(file_path):\n",
    "        missing_files.append(path)"
   ]
  },
  {
   "cell_type": "code",
   "execution_count": 29,
   "metadata": {},
   "outputs": [
    {
     "name": "stdout",
     "output_type": "stream",
     "text": [
      "2565\n"
     ]
    }
   ],
   "source": [
    "combined_json = combined_json[~combined_json['cropped_face_path'].isin(missing_files)]"
   ]
  },
  {
   "cell_type": "code",
   "execution_count": 34,
   "metadata": {},
   "outputs": [
    {
     "data": {
      "text/html": [
       "<div>\n",
       "<style scoped>\n",
       "    .dataframe tbody tr th:only-of-type {\n",
       "        vertical-align: middle;\n",
       "    }\n",
       "\n",
       "    .dataframe tbody tr th {\n",
       "        vertical-align: top;\n",
       "    }\n",
       "\n",
       "    .dataframe thead th {\n",
       "        text-align: right;\n",
       "    }\n",
       "</style>\n",
       "<table border=\"1\" class=\"dataframe\">\n",
       "  <thead>\n",
       "    <tr style=\"text-align: right;\">\n",
       "      <th></th>\n",
       "      <th>cropped_face_path</th>\n",
       "      <th>label</th>\n",
       "    </tr>\n",
       "  </thead>\n",
       "  <tbody>\n",
       "    <tr>\n",
       "      <th>358613</th>\n",
       "      <td>cropped_faces/qyqavdtzbs_150.png</td>\n",
       "      <td>FAKE</td>\n",
       "    </tr>\n",
       "    <tr>\n",
       "      <th>524008</th>\n",
       "      <td>cropped_faces/bicenrlrcf_0.png</td>\n",
       "      <td>FAKE</td>\n",
       "    </tr>\n",
       "    <tr>\n",
       "      <th>510622</th>\n",
       "      <td>cropped_faces/tradwugucx_0.png</td>\n",
       "      <td>FAKE</td>\n",
       "    </tr>\n",
       "    <tr>\n",
       "      <th>24934</th>\n",
       "      <td>cropped_faces/23353_175277_2_0820_0.png</td>\n",
       "      <td>FAKE</td>\n",
       "    </tr>\n",
       "    <tr>\n",
       "      <th>210984</th>\n",
       "      <td>cropped_faces/171859_103_0.png</td>\n",
       "      <td>REAL</td>\n",
       "    </tr>\n",
       "    <tr>\n",
       "      <th>486536</th>\n",
       "      <td>cropped_faces/axttznnysz_0.png</td>\n",
       "      <td>FAKE</td>\n",
       "    </tr>\n",
       "    <tr>\n",
       "      <th>35901</th>\n",
       "      <td>cropped_faces/178664_176107_1_1460_300.png</td>\n",
       "      <td>FAKE</td>\n",
       "    </tr>\n",
       "    <tr>\n",
       "      <th>397771</th>\n",
       "      <td>cropped_faces/emamioiuac_150.png</td>\n",
       "      <td>FAKE</td>\n",
       "    </tr>\n",
       "    <tr>\n",
       "      <th>279654</th>\n",
       "      <td>cropped_faces/19733_106_0.png</td>\n",
       "      <td>REAL</td>\n",
       "    </tr>\n",
       "    <tr>\n",
       "      <th>471108</th>\n",
       "      <td>cropped_faces/fxtncaxweu_0.png</td>\n",
       "      <td>FAKE</td>\n",
       "    </tr>\n",
       "  </tbody>\n",
       "</table>\n",
       "</div>"
      ],
      "text/plain": [
       "                                 cropped_face_path label\n",
       "358613            cropped_faces/qyqavdtzbs_150.png  FAKE\n",
       "524008              cropped_faces/bicenrlrcf_0.png  FAKE\n",
       "510622              cropped_faces/tradwugucx_0.png  FAKE\n",
       "24934      cropped_faces/23353_175277_2_0820_0.png  FAKE\n",
       "210984              cropped_faces/171859_103_0.png  REAL\n",
       "486536              cropped_faces/axttznnysz_0.png  FAKE\n",
       "35901   cropped_faces/178664_176107_1_1460_300.png  FAKE\n",
       "397771            cropped_faces/emamioiuac_150.png  FAKE\n",
       "279654               cropped_faces/19733_106_0.png  REAL\n",
       "471108              cropped_faces/fxtncaxweu_0.png  FAKE"
      ]
     },
     "execution_count": 34,
     "metadata": {},
     "output_type": "execute_result"
    }
   ],
   "source": [
    "combined_json.sample(10)[['cropped_face_path', 'label']]"
   ]
  },
  {
   "cell_type": "code",
   "execution_count": 31,
   "metadata": {},
   "outputs": [],
   "source": [
    "df_test = combined_json[combined_json['split'] == \"test\"]\n",
    "df_train = combined_json[combined_json['split'] == \"train\"]\n",
    "df_val = combined_json[combined_json['split'] == \"val\"]"
   ]
  },
  {
   "cell_type": "code",
   "execution_count": 32,
   "metadata": {},
   "outputs": [],
   "source": [
    "df_test.to_csv(DATA_PATH / \"test.csv\")\n",
    "df_train.to_csv(DATA_PATH / \"train.csv\")\n",
    "df_val.to_csv(DATA_PATH / \"val.csv\")"
   ]
  },
  {
   "cell_type": "code",
   "execution_count": null,
   "metadata": {},
   "outputs": [],
   "source": []
  }
 ],
 "metadata": {
  "kernelspec": {
   "display_name": "deepfake-detection--WQVoTv0-py3.10",
   "language": "python",
   "name": "python3"
  },
  "language_info": {
   "codemirror_mode": {
    "name": "ipython",
    "version": 3
   },
   "file_extension": ".py",
   "mimetype": "text/x-python",
   "name": "python",
   "nbconvert_exporter": "python",
   "pygments_lexer": "ipython3",
   "version": "3.10.12"
  },
  "orig_nbformat": 4
 },
 "nbformat": 4,
 "nbformat_minor": 2
}
