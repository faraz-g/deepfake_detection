{
 "cells": [
  {
   "cell_type": "code",
   "execution_count": 1,
   "metadata": {},
   "outputs": [
    {
     "name": "stderr",
     "output_type": "stream",
     "text": [
      "/home/faraz/.cache/pypoetry/virtualenvs/deepfake-detection-luHkh4Hu-py3.10/lib/python3.10/site-packages/pydantic/_internal/_fields.py:127: UserWarning: Field \"model_key\" has conflict with protected namespace \"model_\".\n",
      "\n",
      "You may be able to resolve this warning by setting `model_config['protected_namespaces'] = ()`.\n",
      "  warnings.warn(\n",
      "/home/faraz/.cache/pypoetry/virtualenvs/deepfake-detection-luHkh4Hu-py3.10/lib/python3.10/site-packages/tqdm/auto.py:21: TqdmWarning: IProgress not found. Please update jupyter and ipywidgets. See https://ipywidgets.readthedocs.io/en/stable/user_install.html\n",
      "  from .autonotebook import tqdm as notebook_tqdm\n"
     ]
    }
   ],
   "source": [
    "import torch\n",
    "from deepfake_detection.defaults import MODEL_OUT_PATH\n",
    "from deepfake_detection.defaults import DATA_PATH, MODEL_OUT_PATH\n",
    "import argparse\n",
    "import os \n",
    "from deepfake_detection.training.configurator import get_config, TrainingConfig\n",
    "from deepfake_detection.training.training_utils import Classifier, get_optimizer, get_scheduler\n",
    "from torch.nn.modules.loss import BCEWithLogitsLoss\n",
    "from deepfake_detection.training.data_loader import DeepFakeDetectionDataset\n",
    "from torch.utils.data.dataloader import DataLoader\n",
    "from deepfake_detection.training.augmentations import train_augmentations, val_augmentations\n",
    "import json"
   ]
  },
  {
   "cell_type": "code",
   "execution_count": 2,
   "metadata": {},
   "outputs": [],
   "source": [
    "model_path = MODEL_OUT_PATH / \"big_batch_b4_25\"\n",
    "model_config_name = \"default_config\""
   ]
  },
  {
   "cell_type": "code",
   "execution_count": 3,
   "metadata": {},
   "outputs": [
    {
     "data": {
      "text/plain": [
       "25"
      ]
     },
     "execution_count": 3,
     "metadata": {},
     "output_type": "execute_result"
    }
   ],
   "source": [
    "saved_model = torch.load(model_path)\n",
    "saved_model['epoch']"
   ]
  },
  {
   "cell_type": "code",
   "execution_count": 4,
   "metadata": {},
   "outputs": [
    {
     "name": "stderr",
     "output_type": "stream",
     "text": [
      "/home/faraz/Documents/code/deepfake_detection/deepfake_detection/training/training_utils.py:27: UserWarning: Mapping deprecated model name tf_efficientnet_b4_ns to current tf_efficientnet_b4.ns_jft_in1k.\n",
      "  self.model = config['init_func'](**config['init_args'])\n"
     ]
    }
   ],
   "source": [
    "from deepfake_detection.training.training_utils import Classifier\n",
    "from deepfake_detection.training.configurator import get_config\n",
    "config = get_config(config_name=model_config_name)\n",
    "model = Classifier(model_key=config.model_key)"
   ]
  },
  {
   "cell_type": "code",
   "execution_count": 5,
   "metadata": {},
   "outputs": [
    {
     "data": {
      "text/plain": [
       "<All keys matched successfully>"
      ]
     },
     "execution_count": 5,
     "metadata": {},
     "output_type": "execute_result"
    }
   ],
   "source": [
    "model.load_state_dict(saved_model['state'])"
   ]
  },
  {
   "cell_type": "code",
   "execution_count": 6,
   "metadata": {},
   "outputs": [],
   "source": [
    "from deepfake_detection.training.data_loader import DeepFakeDetectionDataset\n",
    "\n",
    "data_val = DeepFakeDetectionDataset(\n",
    "    mode=\"val\",\n",
    "    data_path=\"val.csv\",\n",
    "    data_folder_path=DATA_PATH,\n",
    "    augmentations=val_augmentations(height=config.img_height, width=config.img_width)\n",
    ")    \n",
    "val_loader = DataLoader(\n",
    "    data_val, \n",
    "    batch_size=config.batch_size, \n",
    "    pin_memory=False,\n",
    "    shuffle=True,\n",
    "    drop_last=True\n",
    ")"
   ]
  },
  {
   "cell_type": "code",
   "execution_count": 25,
   "metadata": {},
   "outputs": [
    {
     "name": "stdout",
     "output_type": "stream",
     "text": [
      "Ground Truth: [1. 0. 0. 0. 1. 0. 0. 1. 1. 1. 1. 0. 1. 1. 1. 1. 1. 1. 1. 1.]\n",
      "Predictions: [1. 0. 1. 0. 1. 0. 0. 1. 1. 1. 1. 0. 1. 1. 1. 1. 1. 1. 1. 1.]\n",
      "Percentage Match: 95.0%\n"
     ]
    }
   ],
   "source": [
    "import cv2\n",
    "import numpy as np \n",
    "model = model.eval()\n",
    "device = torch.device('cuda:0' if torch.cuda.is_available() else 'cpu')\n",
    "model = model.to(device)\n",
    "with torch.no_grad():\n",
    "    for data in val_loader:\n",
    "        images = data[0]\n",
    "        labels = data[1]\n",
    "    \n",
    "        images = images.to(device)\n",
    "        labels = labels.to(device)\n",
    "\n",
    "        out_labels = model(images)\n",
    "        \n",
    "        out_labels[out_labels < 0] = 0\n",
    "        out_labels[out_labels > 0] = 1\n",
    "\n",
    "        ground_truth = labels.detach().cpu().numpy()\n",
    "        preds = out_labels.detach().cpu().numpy().flatten()\n",
    "\n",
    "        print(f\"Ground Truth: {ground_truth}\")\n",
    "        print(f\"Predictions: {preds}\")\n",
    "        percentage_match = sum(ground_truth == preds) / len(ground_truth)\n",
    "        print(f\"Percentage Match: {percentage_match * 100}%\")\n",
    "        break"
   ]
  },
  {
   "cell_type": "code",
   "execution_count": null,
   "metadata": {},
   "outputs": [],
   "source": []
  }
 ],
 "metadata": {
  "kernelspec": {
   "display_name": "deepfake-detection-luHkh4Hu-py3.10",
   "language": "python",
   "name": "python3"
  },
  "language_info": {
   "codemirror_mode": {
    "name": "ipython",
    "version": 3
   },
   "file_extension": ".py",
   "mimetype": "text/x-python",
   "name": "python",
   "nbconvert_exporter": "python",
   "pygments_lexer": "ipython3",
   "version": "3.10.12"
  },
  "orig_nbformat": 4
 },
 "nbformat": 4,
 "nbformat_minor": 2
}
