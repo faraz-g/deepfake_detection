{
 "cells": [
  {
   "cell_type": "code",
   "execution_count": 3,
   "metadata": {},
   "outputs": [],
   "source": [
    "from pathlib import Path\n",
    "import json\n",
    "import pandas as pd\n",
    "import os"
   ]
  },
  {
   "cell_type": "code",
   "execution_count": 4,
   "metadata": {},
   "outputs": [
    {
     "data": {
      "text/plain": [
       "['KoDF_Terms_of_Use.pdf',\n",
       " 'original_video_metadata.csv',\n",
       " 'README.md',\n",
       " 'synthesized_video_metadata.csv',\n",
       " 'attacked_videos',\n",
       " 'original_videos',\n",
       " 'synthesized_videos']"
      ]
     },
     "execution_count": 4,
     "metadata": {},
     "output_type": "execute_result"
    }
   ],
   "source": [
    "DRIVE_PATH = Path(\"/mnt/h/\")\n",
    "KODF_PATH = DRIVE_PATH / \"kodf_release\"\n",
    "DFDC_PATH = DRIVE_PATH / \"dfdc_extracted\"\n",
    "\n",
    "os.listdir(KODF_PATH)"
   ]
  },
  {
   "cell_type": "markdown",
   "metadata": {},
   "source": [
    "# Pre-Proc KODF"
   ]
  },
  {
   "cell_type": "code",
   "execution_count": 10,
   "metadata": {},
   "outputs": [
    {
     "name": "stderr",
     "output_type": "stream",
     "text": [
      "/tmp/ipykernel_13675/391674642.py:3: SettingWithCopyWarning: \n",
      "A value is trying to be set on a copy of a slice from a DataFrame.\n",
      "Try using .loc[row_indexer,col_indexer] = value instead\n",
      "\n",
      "See the caveats in the documentation: https://pandas.pydata.org/pandas-docs/stable/user_guide/indexing.html#returning-a-view-versus-a-copy\n",
      "  kodf_synthesized_videos_to_keep['video_path'] = KODF_PATH / \"synthesized_videos\" / kodf_synthesized_videos_to_keep['model'] / kodf_synthesized_videos_to_keep['date_time'].str.replace(\"-\", \"\") / kodf_synthesized_videos_to_keep['target_person_id'] / kodf_synthesized_videos_to_keep['video']\n",
      "/tmp/ipykernel_13675/391674642.py:4: SettingWithCopyWarning: \n",
      "A value is trying to be set on a copy of a slice from a DataFrame.\n",
      "Try using .loc[row_indexer,col_indexer] = value instead\n",
      "\n",
      "See the caveats in the documentation: https://pandas.pydata.org/pandas-docs/stable/user_guide/indexing.html#returning-a-view-versus-a-copy\n",
      "  kodf_synthesized_videos_to_keep['video_path'] = kodf_synthesized_videos_to_keep['video_path'].apply(lambda x: str(x))\n",
      "/tmp/ipykernel_13675/391674642.py:5: SettingWithCopyWarning: \n",
      "A value is trying to be set on a copy of a slice from a DataFrame.\n",
      "Try using .loc[row_indexer,col_indexer] = value instead\n",
      "\n",
      "See the caveats in the documentation: https://pandas.pydata.org/pandas-docs/stable/user_guide/indexing.html#returning-a-view-versus-a-copy\n",
      "  kodf_synthesized_videos_to_keep['label'] = \"FAKE\"\n",
      "/tmp/ipykernel_13675/391674642.py:6: SettingWithCopyWarning: \n",
      "A value is trying to be set on a copy of a slice from a DataFrame\n",
      "\n",
      "See the caveats in the documentation: https://pandas.pydata.org/pandas-docs/stable/user_guide/indexing.html#returning-a-view-versus-a-copy\n",
      "  kodf_synthesized_videos_to_keep.drop([\"sex\", \"date_time\", \"model\", \"target_person_id\", \"target_video\", \"source_person_id\"], axis=1, inplace=True)\n"
     ]
    }
   ],
   "source": [
    "kodf_synthesized_metadata = pd.read_csv(KODF_PATH / \"synthesized_video_metadata.csv\")\n",
    "kodf_synthesized_videos_to_keep = kodf_synthesized_metadata[~kodf_synthesized_metadata.model.isin([\"fo\", \"audio-driven\"])]\n",
    "kodf_synthesized_videos_to_keep['video_path'] = KODF_PATH / \"synthesized_videos\" / kodf_synthesized_videos_to_keep['model'] / kodf_synthesized_videos_to_keep['date_time'].str.replace(\"-\", \"\") / kodf_synthesized_videos_to_keep['target_person_id'] / kodf_synthesized_videos_to_keep['video']\n",
    "kodf_synthesized_videos_to_keep['video_path'] = kodf_synthesized_videos_to_keep['video_path'].apply(lambda x: str(x))\n",
    "kodf_synthesized_videos_to_keep['label'] = \"FAKE\"\n",
    "kodf_synthesized_videos_to_keep.drop([\"sex\", \"date_time\", \"model\", \"target_person_id\", \"target_video\", \"source_person_id\"], axis=1, inplace=True)\n",
    "kodf_synthesized_videos_to_keep.set_index(\"video\", inplace=True)\n",
    "\n",
    "kodf_original_metadata = pd.read_csv(KODF_PATH / \"original_video_metadata.csv\")\n",
    "kodf_original_metadata['video_path'] = KODF_PATH / \"original_videos\" / kodf_original_metadata[\"person_id\"] / kodf_original_metadata[\"video\"]\n",
    "kodf_original_metadata['video_path'] = kodf_original_metadata['video_path'].apply(lambda x: str(x))\n",
    "kodf_original_metadata['label'] = \"REAL\"\n",
    "kodf_original_metadata.drop([\"sex\", \"date_time\", \"studio\", \"person_id\"], axis=1, inplace=True)\n",
    "kodf_original_metadata.set_index(\"video\", inplace=True)\n",
    "\n",
    "kodf_combined = pd.concat([kodf_synthesized_videos_to_keep, kodf_original_metadata])\n",
    "kodf_dict = kodf_combined.to_dict(orient=\"index\")\n",
    "\n",
    "with open(KODF_PATH / \"master_metadata.json\", 'w') as f:\n",
    "    json.dump(kodf_dict, f)"
   ]
  },
  {
   "cell_type": "code",
   "execution_count": null,
   "metadata": {},
   "outputs": [],
   "source": [
    "# Uncomment for processing \n",
    "\n",
    "# parts = [i for i in range(50)]\n",
    "# master_metadata = {}\n",
    "# for part in parts:\n",
    "#     print(f\"Processing Part: {part}\")\n",
    "#     folder_name = f\"dfdc_train_part_{str(part).zfill(2)}\"\n",
    "#     inner_folder_name = f\"dfdc_train_part_{part}\"\n",
    "#     current_part_path = DFDC_PATH / folder_name / inner_folder_name\n",
    "#     metadata_path = current_part_path / \"metadata.json\" \n",
    "#     part_meta = {}\n",
    "#     with open(metadata_path) as f:\n",
    "#         meta_data = json.load(f)\n",
    "#     for video, data in meta_data.items():\n",
    "#         video_path = current_part_path / video\n",
    "#         if not os.path.exists(video_path) == True:\n",
    "#             print(\"CURRENT VIDEO PATH\", video_path, video, data)\n",
    "#             continue\n",
    "#         del data['split']\n",
    "#         if 'original' in data.keys():\n",
    "#             del data['original']\n",
    "\n",
    "#         data['video_path'] = str(video_path)\n",
    "#         part_meta[video] = data\n",
    "#     master_metadata.update(part_meta)\n",
    "\n",
    "# with open(DFDC_PATH / \"master_metadata.json\", 'w') as f:\n",
    "#     json.dump(master_metadata, f)"
   ]
  },
  {
   "cell_type": "code",
   "execution_count": 13,
   "metadata": {},
   "outputs": [],
   "source": [
    "kodf_df = pd.read_json(KODF_PATH / \"master_metadata.json\", orient=\"index\")\n",
    "dfdc_df = pd.read_json(DFDC_PATH / \"master_metadata.json\", orient=\"index\")"
   ]
  },
  {
   "cell_type": "code",
   "execution_count": 18,
   "metadata": {},
   "outputs": [],
   "source": [
    "final_dataset = pd.concat([kodf_df, dfdc_df])\n",
    "final_dataset.to_json(\"metadata.json\", orient=\"index\")"
   ]
  }
 ],
 "metadata": {
  "kernelspec": {
   "display_name": "deepfake-detection-GCgYYbau-py3.10",
   "language": "python",
   "name": "python3"
  },
  "language_info": {
   "codemirror_mode": {
    "name": "ipython",
    "version": 3
   },
   "file_extension": ".py",
   "mimetype": "text/x-python",
   "name": "python",
   "nbconvert_exporter": "python",
   "pygments_lexer": "ipython3",
   "version": "3.10.6"
  },
  "orig_nbformat": 4
 },
 "nbformat": 4,
 "nbformat_minor": 2
}
