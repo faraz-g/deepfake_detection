{
 "cells": [
  {
   "cell_type": "code",
   "execution_count": 1,
   "metadata": {},
   "outputs": [],
   "source": [
    "from pathlib import Path\n",
    "import pandas as pd\n",
    "import os \n",
    "import json"
   ]
  },
  {
   "cell_type": "code",
   "execution_count": 2,
   "metadata": {},
   "outputs": [],
   "source": [
    "DRIVE_PATH = Path(\"/mnt/h/\")\n",
    "KODF_PATH = DRIVE_PATH / \"kodf_release\"\n",
    "DFDC_PATH = DRIVE_PATH / \"dfdc_extracted\""
   ]
  },
  {
   "cell_type": "markdown",
   "metadata": {},
   "source": [
    "# Pre-Proc KODF"
   ]
  },
  {
   "cell_type": "code",
   "execution_count": 3,
   "metadata": {},
   "outputs": [
    {
     "ename": "ModuleNotFoundError",
     "evalue": "No module named 'deepfake_detection'",
     "output_type": "error",
     "traceback": [
      "\u001b[0;31m---------------------------------------------------------------------------\u001b[0m",
      "\u001b[0;31mModuleNotFoundError\u001b[0m                       Traceback (most recent call last)",
      "Cell \u001b[0;32mIn[3], line 2\u001b[0m\n\u001b[1;32m      1\u001b[0m \u001b[39m# Uncomment for processing \u001b[39;00m\n\u001b[0;32m----> 2\u001b[0m \u001b[39mfrom\u001b[39;00m \u001b[39mdeepfake_detection\u001b[39;00m\u001b[39m.\u001b[39;00m\u001b[39mutils\u001b[39;00m\u001b[39m.\u001b[39;00m\u001b[39mdefaults\u001b[39;00m \u001b[39mimport\u001b[39;00m RANDOM_STATE\n\u001b[1;32m      4\u001b[0m \u001b[39mfrom\u001b[39;00m \u001b[39msklearn\u001b[39;00m\u001b[39m.\u001b[39;00m\u001b[39mutils\u001b[39;00m \u001b[39mimport\u001b[39;00m shuffle\n\u001b[1;32m      6\u001b[0m \u001b[39mdef\u001b[39;00m \u001b[39mget_kodf_train_test_people\u001b[39m(unique_persons: \u001b[39mlist\u001b[39m[\u001b[39mstr\u001b[39m]) \u001b[39m-\u001b[39m\u001b[39m>\u001b[39m \u001b[39mtuple\u001b[39m[\u001b[39mlist\u001b[39m[\u001b[39mstr\u001b[39m], \u001b[39mlist\u001b[39m[\u001b[39mstr\u001b[39m]]:\n",
      "\u001b[0;31mModuleNotFoundError\u001b[0m: No module named 'deepfake_detection'"
     ]
    }
   ],
   "source": [
    "# Uncomment for processing \n",
    "from deepfake_detection.utils.defaults import RANDOM_STATE\n",
    "\n",
    "from sklearn.utils import shuffle\n",
    "\n",
    "def get_kodf_train_test_people(unique_persons: list[str]) -> tuple[list[str], list[str]]:\n",
    "    shuffled_people = shuffle(unique_persons, random_state=RANDOM_STATE)\n",
    "    print(shuffled_people)\n",
    "    \n",
    "    return None, None\n",
    "kodf_synthesized_metadata = pd.read_csv(KODF_PATH / \"synthesized_video_metadata.csv\")\n",
    "kodf_synthesized_videos_to_keep = kodf_synthesized_metadata[~kodf_synthesized_metadata.model.isin([\"fo\", \"audio-driven\"])]\n",
    "kodf_synthesized_videos_to_keep['video_path'] = KODF_PATH.relative_to(DRIVE_PATH) / \"synthesized_videos\" / kodf_synthesized_videos_to_keep['model'] / kodf_synthesized_videos_to_keep['date_time'].str.replace(\"-\", \"\") / kodf_synthesized_videos_to_keep['target_person_id'] / kodf_synthesized_videos_to_keep['video']\n",
    "kodf_synthesized_videos_to_keep['video_path'] = kodf_synthesized_videos_to_keep['video_path'].apply(lambda x: str(x))\n",
    "kodf_synthesized_videos_to_keep['label'] = \"FAKE\"\n",
    "kodf_synthesized_videos_to_keep.drop([\"sex\", \"date_time\", \"model\", \"target_person_id\", \"target_video\"], axis=1, inplace=True)\n",
    "kodf_synthesized_videos_to_keep.rename(columns={\"source_person_id\": \"person_id\"}, inplace=True)\n",
    "kodf_synthesized_videos_to_keep.set_index(\"video\", inplace=True)\n",
    "\n",
    "kodf_original_metadata = pd.read_csv(KODF_PATH / \"original_video_metadata.csv\")\n",
    "kodf_original_metadata['video_path'] = KODF_PATH.relative_to(DRIVE_PATH) / \"original_videos\" / kodf_original_metadata[\"person_id\"] / kodf_original_metadata[\"video\"]\n",
    "kodf_original_metadata['video_path'] = kodf_original_metadata['video_path'].apply(lambda x: str(x))\n",
    "kodf_original_metadata['label'] = \"REAL\"\n",
    "kodf_original_metadata.drop([\"sex\", \"date_time\", \"studio\"], axis=1, inplace=True)\n",
    "kodf_original_metadata.set_index(\"video\", inplace=True)\n",
    "\n",
    "kodf_combined = pd.concat([kodf_synthesized_videos_to_keep, kodf_original_metadata])\n",
    "\n",
    "train_people, test_people = get_kodf_train_test_people(kodf_combined['person_id'].unique())\n",
    "\n",
    "# bad_paths = []\n",
    "\n",
    "# for path in kodf_combined['video_path']:\n",
    "#     if not os.path.exists(DRIVE_PATH / path):\n",
    "#         print(f\"Bad path: {path}\")\n",
    "#         bad_paths.append(path)\n",
    "    \n",
    "# kodf_combined = kodf_combined[~kodf_combined['video_path'].isin(bad_paths)]\n",
    "# kodf_dict = kodf_combined.to_dict(orient=\"index\")\n",
    "\n",
    "# with open(KODF_PATH / \"master_metadata.json\", 'w') as f:\n",
    "#     json.dump(kodf_dict, f)"
   ]
  },
  {
   "cell_type": "code",
   "execution_count": null,
   "metadata": {},
   "outputs": [],
   "source": [
    "# Uncomment for processing \n",
    "\n",
    "parts = [i for i in range(50)]\n",
    "master_metadata = {}\n",
    "for part in parts:\n",
    "    print(f\"Processing Part: {part}\")\n",
    "    folder_name = f\"dfdc_train_part_{str(part).zfill(2)}\"\n",
    "    inner_folder_name = f\"dfdc_train_part_{part}\"\n",
    "    current_part_path = DFDC_PATH / folder_name / inner_folder_name\n",
    "    metadata_path = current_part_path / \"metadata.json\" \n",
    "    part_meta = {}\n",
    "    with open(metadata_path) as f:\n",
    "        meta_data = json.load(f)\n",
    "    for video, data in meta_data.items():\n",
    "        video_path = current_part_path / video\n",
    "        if not os.path.exists(video_path) == True:\n",
    "            print(\"CURRENT VIDEO PATH\", video_path, video, data)\n",
    "            continue\n",
    "        del data['split']\n",
    "        if 'original' in data.keys():\n",
    "            del data['original']\n",
    "\n",
    "        data['video_path'] = str(video_path.relative_to(DRIVE_PATH))\n",
    "        part_meta[video] = data\n",
    "    master_metadata.update(part_meta)\n",
    "\n",
    "with open(DFDC_PATH / \"master_metadata.json\", 'w') as f:\n",
    "    json.dump(master_metadata, f)"
   ]
  },
  {
   "cell_type": "code",
   "execution_count": null,
   "metadata": {},
   "outputs": [],
   "source": [
    "kodf_df = pd.read_json(KODF_PATH / \"master_metadata.json\", orient=\"index\")\n",
    "dfdc_df = pd.read_json(DFDC_PATH / \"master_metadata.json\", orient=\"index\")\n",
    "kodf_df"
   ]
  },
  {
   "cell_type": "code",
   "execution_count": null,
   "metadata": {},
   "outputs": [],
   "source": [
    "final_dataset = pd.concat([kodf_df, dfdc_df])\n",
    "final_dataset.reset_index(inplace=True)\n",
    "final_dataset.columns = [\"video\", \"video_path\", \"label\"]\n",
    "final_dataset.to_csv(\"metadata.csv\", index=False)"
   ]
  },
  {
   "cell_type": "code",
   "execution_count": null,
   "metadata": {},
   "outputs": [],
   "source": []
  }
 ],
 "metadata": {
  "kernelspec": {
   "display_name": "deepfake-detection-GCgYYbau-py3.10",
   "language": "python",
   "name": "python3"
  },
  "language_info": {
   "codemirror_mode": {
    "name": "ipython",
    "version": 3
   },
   "file_extension": ".py",
   "mimetype": "text/x-python",
   "name": "python",
   "nbconvert_exporter": "python",
   "pygments_lexer": "ipython3",
   "version": "3.10.6"
  },
  "orig_nbformat": 4
 },
 "nbformat": 4,
 "nbformat_minor": 2
}
